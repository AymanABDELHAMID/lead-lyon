{
 "cells": [
  {
   "cell_type": "code",
   "execution_count": 17,
   "metadata": {},
   "outputs": [],
   "source": [
    "demand_path = \"input\"\n",
    "output_path = \"output\""
   ]
  },
  {
   "cell_type": "code",
   "execution_count": 28,
   "metadata": {},
   "outputs": [],
   "source": [
    "import numpy as np\n",
    "import pandas as pd\n",
    "from tqdm.notebook import tqdm\n",
    "import itertools\n",
    "import geopandas as gpd\n",
    "import os"
   ]
  },
  {
   "cell_type": "code",
   "execution_count": 19,
   "metadata": {},
   "outputs": [],
   "source": [
    "assert os.path.exists(\"%s/confluence_areas.gpkg\" % demand_path)\n",
    "assert os.path.exists(\"%s/confluence.osm.pbf\" % output_path)\n",
    "\n",
    "assert os.path.exists(\"%s/slots.csv\" % output_path)\n",
    "assert os.path.exists(\"%s/homes.gpkg\" % demand_path)"
   ]
  },
  {
   "cell_type": "markdown",
   "metadata": {},
   "source": [
    "# Relevant information"
   ]
  },
  {
   "cell_type": "code",
   "execution_count": 20,
   "metadata": {},
   "outputs": [],
   "source": [
    "df_spatial = gpd.read_file(\"%s/homes.gpkg\" % demand_path)"
   ]
  },
  {
   "cell_type": "code",
   "execution_count": 21,
   "metadata": {},
   "outputs": [],
   "source": [
    "df_slots = pd.read_csv(\"%s/slots.csv\" % output_path, sep = \";\")"
   ]
  },
  {
   "cell_type": "markdown",
   "metadata": {},
   "source": [
    "# Filter Confluence households"
   ]
  },
  {
   "cell_type": "code",
   "execution_count": 23,
   "metadata": {},
   "outputs": [],
   "source": [
    "confluence_households = gpd.sjoin(\n",
    "    df_spatial,\n",
    "    gpd.read_file(\"%s/confluence_areas.gpkg\" % demand_path),\n",
    "    op = \"within\"\n",
    ")[\"household_id\"].unique()"
   ]
  },
  {
   "cell_type": "code",
   "execution_count": 24,
   "metadata": {},
   "outputs": [],
   "source": [
    "df_confluence = df_slots[df_slots[\"household_id\"].isin(confluence_households)]"
   ]
  },
  {
   "cell_type": "markdown",
   "metadata": {},
   "source": [
    "# Network"
   ]
  },
  {
   "cell_type": "code",
   "execution_count": 25,
   "metadata": {},
   "outputs": [],
   "source": [
    "import networkx as nx\n",
    "import pyrosm "
   ]
  },
  {
   "cell_type": "code",
   "execution_count": 26,
   "metadata": {},
   "outputs": [],
   "source": [
    "osm = pyrosm.OSM(\"%s/confluence.osm.pbf\" % output_path)\n",
    "df_nodes, df_edges = osm.get_network(nodes = True, network_type = \"driving\")\n",
    "\n",
    "df_nodes = df_nodes.to_crs(\"EPSG:2154\")\n",
    "df_edges = df_edges.to_crs(\"EPSG:2154\")\n",
    "\n",
    "graph = osm.to_graph(df_nodes, df_edges, graph_type=\"networkx\")\n",
    "df_nodes = df_nodes[df_nodes[\"id\"].isin(graph.nodes)]"
   ]
  },
  {
   "cell_type": "code",
   "execution_count": 31,
   "metadata": {},
   "outputs": [
    {
     "data": {
      "application/vnd.jupyter.widget-view+json": {
       "model_id": "749a81d1535d48ac8f37a073fc28db8a",
       "version_major": 2,
       "version_minor": 0
      },
      "text/plain": [
       "HBox(children=(HTML(value=''), FloatProgress(value=0.0, max=326028.0), HTML(value='')))"
      ]
     },
     "metadata": {},
     "output_type": "display_data"
    },
    {
     "name": "stdout",
     "output_type": "stream",
     "text": [
      "\n"
     ]
    }
   ],
   "source": [
    "# Calculate distance matrix\n",
    "\n",
    "nodes = list(graph.nodes)\n",
    "df_distances = []\n",
    "\n",
    "with tqdm(total = np.cumsum(np.arange(len(nodes)))[-1]) as progress:\n",
    "    progress.update()\n",
    "    \n",
    "    for i in range(len(nodes)): \n",
    "        df_distances.append(dict(\n",
    "            from_node = nodes[i], to_node = nodes[i],\n",
    "            distance = 0.0\n",
    "        ))\n",
    "        \n",
    "        for j in range(i + 1, len(nodes)):\n",
    "            df_distances.append(dict(\n",
    "                from_node = nodes[i], to_node = nodes[j],\n",
    "                distance = nx.algorithms.shortest_path_length(graph, nodes[i], nodes[j], weight = \"length\")\n",
    "            ))\n",
    "            \n",
    "            progress.update()\n",
    "\n",
    "df_distances = pd.DataFrame.from_records(df_distances)"
   ]
  },
  {
   "cell_type": "code",
   "execution_count": 32,
   "metadata": {},
   "outputs": [],
   "source": [
    "# Find household nodes\n",
    "import sklearn\n",
    "import sklearn.neighbors\n",
    "\n",
    "node_index = sklearn.neighbors.KDTree(\n",
    "    np.vstack([df_nodes[\"geometry\"].x.values, df_nodes[\"geometry\"].y.values]).T\n",
    ")\n",
    "\n",
    "df_households = df_slots.drop_duplicates(\"household_id\")[[\"household_id\", \"x\", \"y\"]]\n",
    "\n",
    "df_households[\"location_id\"] = df_nodes.iloc[node_index.query(\n",
    "    np.vstack([df_households[\"x\"].values, df_households[\"y\"].values]).T\n",
    ")[1].flatten()][\"id\"].values"
   ]
  },
  {
   "cell_type": "code",
   "execution_count": 33,
   "metadata": {},
   "outputs": [],
   "source": [
    "pd.merge(df_confluence, df_households[[\"household_id\", \"location_id\"]]).to_csv(\n",
    "    \"%s/vrp_deliveries.csv\" % output_path, sep = \";\"\n",
    ")\n",
    "\n",
    "df_distances.to_csv(\n",
    "    \"%s/vrp_distances.csv\" % output_path, sep = \";\"\n",
    ")"
   ]
  },
  {
   "cell_type": "code",
   "execution_count": 34,
   "metadata": {},
   "outputs": [],
   "source": [
    "# Write outnetwork\n",
    "\n",
    "df_edges[\n",
    "    df_edges[\"u\"].isin(df_nodes[\"id\"]) & df_edges[\"v\"].isin(df_nodes[\"id\"])\n",
    "].to_file(\"%s/vrp_network.gpkg\" % output_path, driver = \"GPKG\")\n",
    "\n",
    "df_nodes.to_file(\"%s/vrp_nodes.gpkg\" % output_path, driver = \"GPKG\")"
   ]
  },
  {
   "cell_type": "code",
   "execution_count": 35,
   "metadata": {},
   "outputs": [],
   "source": [
    "df_nodes_file = df_nodes.copy()\n",
    "df_nodes_file[\"x\"] = df_nodes.geometry.x\n",
    "df_nodes_file[\"y\"] = df_nodes.geometry.y\n",
    "df_nodes_file[\"location_id\"] = df_nodes_file[\"id\"]\n",
    "df_nodes_file[[\"location_id\", \"x\", \"y\"]].to_csv(\"%s/vrp_nodes.csv\" % output_path, sep = \";\")"
   ]
  }
 ],
 "metadata": {
  "kernelspec": {
   "display_name": "Python 3",
   "language": "python",
   "name": "python3"
  },
  "language_info": {
   "codemirror_mode": {
    "name": "ipython",
    "version": 3
   },
   "file_extension": ".py",
   "mimetype": "text/x-python",
   "name": "python",
   "nbconvert_exporter": "python",
   "pygments_lexer": "ipython3",
   "version": "3.8.10"
  }
 },
 "nbformat": 4,
 "nbformat_minor": 4
}
