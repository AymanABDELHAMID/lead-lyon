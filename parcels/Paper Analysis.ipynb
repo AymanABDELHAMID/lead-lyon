{
 "cells": [
  {
   "cell_type": "code",
   "execution_count": 1,
   "metadata": {},
   "outputs": [],
   "source": [
    "import pandas as pd\n",
    "import numpy as np\n",
    "import matplotlib.pyplot as plt\n",
    "%matplotlib inline"
   ]
  },
  {
   "cell_type": "code",
   "execution_count": 24,
   "metadata": {},
   "outputs": [],
   "source": [
    "seeds = [1000, 2000, 3000, 4000, 5000, 6000, 7000, 8000, 9000, 10000]\n",
    "capacities = [4, 5, 6]\n",
    "\n",
    "df_deliveries = []\n",
    "df_solutions = []\n",
    "df_movements = []\n",
    "\n",
    "for seed in seeds:\n",
    "    df_partial = pd.read_csv(\"output/vrp_deliveries_seed%d.csv\" % (seed,), sep = \";\")\n",
    "    df_partial[\"seed\"] = seed\n",
    "    df_deliveries.append(df_partial)\n",
    "\n",
    "    for capacity in capacities:\n",
    "        df_partial = pd.read_csv(\"output/vrp_solution_seed%d_cap%d.csv\" % (seed, capacity), sep = \";\")\n",
    "        df_partial[\"seed\"] = seed\n",
    "        df_partial[\"capacity\"] = capacity\n",
    "        df_solutions.append(df_partial)\n",
    "\n",
    "        df_partial = pd.read_csv(\"output/vrp_movements_seed%d_cap%d/output_legs.csv.gz\" % (seed, capacity), sep = \";\")\n",
    "        df_partial[\"seed\"] = seed\n",
    "        df_partial[\"capacity\"] = capacity\n",
    "        df_movements.append(df_partial)\n",
    "\n",
    "df_deliveries = pd.concat(df_deliveries)\n",
    "df_solutions = pd.concat(df_solutions)\n",
    "df_movements = pd.concat(df_movements)"
   ]
  },
  {
   "cell_type": "code",
   "execution_count": 5,
   "metadata": {},
   "outputs": [],
   "source": [
    "seeds = [1000, 2000, 3000, 4000, 5000, 6000, 7000, 8000, 9000, 10000]\n",
    "services = [\"dhl\", \"dpd\", \"poste\", \"tnt_fedex\", \"ups\"]\n",
    "\n",
    "df_deliveries_baseline = []\n",
    "df_solutions_baseline = []\n",
    "df_movements_baseline = []\n",
    "\n",
    "for service in services:\n",
    "    for seed in seeds:\n",
    "        df_partial = pd.read_csv(\"output/deliveries_for_%s_seed%d.csv\" % (service, seed), sep = \";\")\n",
    "        df_partial[\"seed\"] = seed\n",
    "        df_partial[\"service\"] = service\n",
    "        df_deliveries_baseline.append(df_partial)\n",
    "\n",
    "        df_partial = pd.read_csv(\"output/vrp_solution_for_%s_seed%d.csv\" % (service, seed), sep = \";\")\n",
    "        df_partial[\"seed\"] = seed\n",
    "        df_partial[\"service\"] = service\n",
    "        df_partial[\"vehicle_id\"] += \"_\" + service\n",
    "        df_solutions_baseline.append(df_partial)\n",
    "\n",
    "        df_partial = pd.read_csv(\"output/vrp_movements_for_%s_seed%d/output_legs.csv.gz\" % (service, seed), sep = \";\")\n",
    "        df_partial[\"seed\"] = seed\n",
    "        df_partial[\"service\"] = service\n",
    "        df_movements_baseline.append(df_partial)\n",
    "\n",
    "df_deliveries_baseline = pd.concat(df_deliveries_baseline)\n",
    "df_solutions_baseline = pd.concat(df_solutions_baseline)\n",
    "df_movements_baseline = pd.concat(df_movements_baseline)"
   ]
  },
  {
   "cell_type": "code",
   "execution_count": 10,
   "metadata": {},
   "outputs": [
    {
     "data": {
      "text/plain": [
       "count     10.000000\n",
       "mean     112.400000\n",
       "std       10.595597\n",
       "min      102.000000\n",
       "25%      103.000000\n",
       "50%      109.500000\n",
       "75%      122.500000\n",
       "max      129.000000\n",
       "Name: parcels, dtype: float64"
      ]
     },
     "execution_count": 10,
     "metadata": {},
     "output_type": "execute_result"
    }
   ],
   "source": [
    "df_deliveries.groupby(\"seed\")[\"household_id\"].nunique().reset_index(name = \"parcels\")[\"parcels\"].describe()"
   ]
  },
  {
   "cell_type": "code",
   "execution_count": 37,
   "metadata": {},
   "outputs": [
    {
     "name": "stdout",
     "output_type": "stream",
     "text": [
      "Capacity 4\n",
      "count    10.000000\n",
      "mean      4.800000\n",
      "std       1.229273\n",
      "min       3.000000\n",
      "25%       4.250000\n",
      "50%       5.000000\n",
      "75%       5.000000\n",
      "max       7.000000\n",
      "Name: vehicles, dtype: float64\n",
      "Capacity 5\n",
      "count    10.000000\n",
      "mean      4.600000\n",
      "std       1.173788\n",
      "min       3.000000\n",
      "25%       4.000000\n",
      "50%       4.500000\n",
      "75%       5.750000\n",
      "max       6.000000\n",
      "Name: vehicles, dtype: float64\n",
      "Capacity 6\n",
      "count    10.000000\n",
      "mean      3.900000\n",
      "std       1.197219\n",
      "min       3.000000\n",
      "25%       3.000000\n",
      "50%       3.500000\n",
      "75%       4.000000\n",
      "max       6.000000\n",
      "Name: vehicles, dtype: float64\n"
     ]
    },
    {
     "data": {
      "text/plain": [
       "[<matplotlib.lines.Line2D at 0x7f6b517dc250>]"
      ]
     },
     "execution_count": 37,
     "metadata": {},
     "output_type": "execute_result"
    },
    {
     "data": {
      "image/png": "[encoded data removed]",
      "text/plain": [
       "<Figure size 432x288 with 1 Axes>"
      ]
     },
     "metadata": {
      "needs_background": "light"
     },
     "output_type": "display_data"
    }
   ],
   "source": [
    "values = []\n",
    "\n",
    "for capacity in capacities:\n",
    "    print(\"Capacity\", capacity)\n",
    "    df_analysis = df_solutions[\n",
    "        df_solutions[\"capacity\"] == capacity\n",
    "    ].groupby(\"seed\")[\"vehicle_id\"].nunique().reset_index(name = \"vehicles\")[\"vehicles\"]\n",
    "    print(df_analysis.describe())\n",
    "    \n",
    "    values.append(df_analysis.quantile(0.5))\n",
    "    \n",
    "plt.plot(capacities, values)"
   ]
  },
  {
   "cell_type": "code",
   "execution_count": 44,
   "metadata": {},
   "outputs": [
    {
     "name": "stdout",
     "output_type": "stream",
     "text": [
      "Capacity 4\n",
      "count       10.000000\n",
      "mean     66347.100000\n",
      "std       5808.799885\n",
      "min      59000.000000\n",
      "25%      61820.500000\n",
      "50%      65736.500000\n",
      "75%      68809.500000\n",
      "max      75877.000000\n",
      "Name: distance, dtype: float64\n",
      "Capacity 5\n",
      "count       10.000000\n",
      "mean     57794.200000\n",
      "std       4728.111881\n",
      "min      51920.000000\n",
      "25%      54761.000000\n",
      "50%      57594.000000\n",
      "75%      58989.250000\n",
      "max      66028.000000\n",
      "Name: distance, dtype: float64\n",
      "Capacity 6\n",
      "count       10.000000\n",
      "mean     53569.500000\n",
      "std       4845.529492\n",
      "min      47771.000000\n",
      "25%      49413.500000\n",
      "50%      52519.000000\n",
      "75%      56667.250000\n",
      "max      62509.000000\n",
      "Name: distance, dtype: float64\n"
     ]
    },
    {
     "data": {
      "text/plain": [
       "<matplotlib.collections.PolyCollection at 0x7f6b515c9510>"
      ]
     },
     "execution_count": 44,
     "metadata": {},
     "output_type": "execute_result"
    },
    {
     "data": {
      "image/png": "[encoded data removed]",
      "text/plain": [
       "<Figure size 432x288 with 1 Axes>"
      ]
     },
     "metadata": {
      "needs_background": "light"
     },
     "output_type": "display_data"
    }
   ],
   "source": [
    "values = []\n",
    "stds = []\n",
    "\n",
    "for capacity in capacities:\n",
    "    print(\"Capacity\", capacity)\n",
    "    df_analysis = df_movements[\n",
    "        df_movements[\"capacity\"] == capacity\n",
    "    ].groupby(\"seed\")[\"distance\"].sum().reset_index(name = \"distance\")[\"distance\"]\n",
    "    print(df_analysis.describe())\n",
    "    \n",
    "    values.append(df_analysis.mean())\n",
    "    stds.append(df_analysis.std())\n",
    "    \n",
    "values = np.array(values)\n",
    "stds = np.array(stds)\n",
    "\n",
    "plt.plot(capacities, values)\n",
    "plt.fill_between(capacities, values - stds, values + stds, alpha = 0.25)"
   ]
  },
  {
   "cell_type": "code",
   "execution_count": 16,
   "metadata": {},
   "outputs": [
    {
     "data": {
      "text/plain": [
       "count     10.000000\n",
       "mean     112.400000\n",
       "std       10.595597\n",
       "min      102.000000\n",
       "25%      103.000000\n",
       "50%      109.500000\n",
       "75%      122.500000\n",
       "max      129.000000\n",
       "Name: parcels, dtype: float64"
      ]
     },
     "execution_count": 16,
     "metadata": {},
     "output_type": "execute_result"
    }
   ],
   "source": [
    "df_deliveries_baseline.groupby(\"seed\")[\"household_id\"].nunique().reset_index(name = \"parcels\")[\"parcels\"].describe()"
   ]
  },
  {
   "cell_type": "code",
   "execution_count": 17,
   "metadata": {},
   "outputs": [
    {
     "data": {
      "text/plain": [
       "count    10.000000\n",
       "mean      5.100000\n",
       "std       0.316228\n",
       "min       5.000000\n",
       "25%       5.000000\n",
       "50%       5.000000\n",
       "75%       5.000000\n",
       "max       6.000000\n",
       "Name: vehicles, dtype: float64"
      ]
     },
     "execution_count": 17,
     "metadata": {},
     "output_type": "execute_result"
    }
   ],
   "source": [
    "df_solutions_baseline.groupby(\"seed\")[\"vehicle_id\"].nunique().reset_index(name = \"vehicles\")[\"vehicles\"].describe()"
   ]
  },
  {
   "cell_type": "code",
   "execution_count": 18,
   "metadata": {},
   "outputs": [
    {
     "data": {
      "text/plain": [
       "count       10.000000\n",
       "mean     64455.800000\n",
       "std       4649.685194\n",
       "min      57724.000000\n",
       "25%      61964.250000\n",
       "50%      64576.500000\n",
       "75%      67000.750000\n",
       "max      71614.000000\n",
       "Name: distance, dtype: float64"
      ]
     },
     "execution_count": 18,
     "metadata": {},
     "output_type": "execute_result"
    }
   ],
   "source": [
    "df_movements_baseline.groupby(\"seed\")[\"distance\"].sum().reset_index(name = \"distance\")[\"distance\"].describe()"
   ]
  },
  {
   "cell_type": "code",
   "execution_count": 19,
   "metadata": {},
   "outputs": [
    {
     "data": {
      "text/html": [
       "<div>\n",
       "<style scoped>\n",
       "    .dataframe tbody tr th:only-of-type {\n",
       "        vertical-align: middle;\n",
       "    }\n",
       "\n",
       "    .dataframe tbody tr th {\n",
       "        vertical-align: top;\n",
       "    }\n",
       "\n",
       "    .dataframe thead th {\n",
       "        text-align: right;\n",
       "    }\n",
       "</style>\n",
       "<table border=\"1\" class=\"dataframe\">\n",
       "  <thead>\n",
       "    <tr style=\"text-align: right;\">\n",
       "      <th></th>\n",
       "      <th>vehicle_id</th>\n",
       "      <th>activity_index</th>\n",
       "      <th>arrival_time</th>\n",
       "      <th>end_time</th>\n",
       "      <th>name</th>\n",
       "      <th>location_id</th>\n",
       "      <th>seed</th>\n",
       "      <th>capacity</th>\n",
       "    </tr>\n",
       "  </thead>\n",
       "  <tbody>\n",
       "    <tr>\n",
       "      <th>0</th>\n",
       "      <td>vehicle_1</td>\n",
       "      <td>-1</td>\n",
       "      <td>0.00000</td>\n",
       "      <td>0.00000</td>\n",
       "      <td>start</td>\n",
       "      <td>6068627214</td>\n",
       "      <td>1000</td>\n",
       "      <td>4</td>\n",
       "    </tr>\n",
       "    <tr>\n",
       "      <th>1</th>\n",
       "      <td>vehicle_1</td>\n",
       "      <td>205</td>\n",
       "      <td>60.00000</td>\n",
       "      <td>120.00000</td>\n",
       "      <td>pickupShipment</td>\n",
       "      <td>6068627214</td>\n",
       "      <td>1000</td>\n",
       "      <td>4</td>\n",
       "    </tr>\n",
       "    <tr>\n",
       "      <th>2</th>\n",
       "      <td>vehicle_1</td>\n",
       "      <td>35</td>\n",
       "      <td>120.00000</td>\n",
       "      <td>180.00000</td>\n",
       "      <td>pickupShipment</td>\n",
       "      <td>6068627214</td>\n",
       "      <td>1000</td>\n",
       "      <td>4</td>\n",
       "    </tr>\n",
       "    <tr>\n",
       "      <th>3</th>\n",
       "      <td>vehicle_1</td>\n",
       "      <td>125</td>\n",
       "      <td>180.00000</td>\n",
       "      <td>240.00000</td>\n",
       "      <td>pickupShipment</td>\n",
       "      <td>6068627214</td>\n",
       "      <td>1000</td>\n",
       "      <td>4</td>\n",
       "    </tr>\n",
       "    <tr>\n",
       "      <th>4</th>\n",
       "      <td>vehicle_1</td>\n",
       "      <td>206</td>\n",
       "      <td>844.27296</td>\n",
       "      <td>21900.00000</td>\n",
       "      <td>deliverShipment</td>\n",
       "      <td>16564346</td>\n",
       "      <td>1000</td>\n",
       "      <td>4</td>\n",
       "    </tr>\n",
       "    <tr>\n",
       "      <th>...</th>\n",
       "      <td>...</td>\n",
       "      <td>...</td>\n",
       "      <td>...</td>\n",
       "      <td>...</td>\n",
       "      <td>...</td>\n",
       "      <td>...</td>\n",
       "      <td>...</td>\n",
       "      <td>...</td>\n",
       "    </tr>\n",
       "    <tr>\n",
       "      <th>207</th>\n",
       "      <td>vehicle_18</td>\n",
       "      <td>163</td>\n",
       "      <td>67386.34888</td>\n",
       "      <td>67446.34888</td>\n",
       "      <td>pickupShipment</td>\n",
       "      <td>6068627214</td>\n",
       "      <td>10000</td>\n",
       "      <td>6</td>\n",
       "    </tr>\n",
       "    <tr>\n",
       "      <th>208</th>\n",
       "      <td>vehicle_18</td>\n",
       "      <td>88</td>\n",
       "      <td>67582.81552</td>\n",
       "      <td>67882.81552</td>\n",
       "      <td>deliverShipment</td>\n",
       "      <td>5947847668</td>\n",
       "      <td>10000</td>\n",
       "      <td>6</td>\n",
       "    </tr>\n",
       "    <tr>\n",
       "      <th>209</th>\n",
       "      <td>vehicle_18</td>\n",
       "      <td>164</td>\n",
       "      <td>67882.81552</td>\n",
       "      <td>68182.81552</td>\n",
       "      <td>deliverShipment</td>\n",
       "      <td>5947847668</td>\n",
       "      <td>10000</td>\n",
       "      <td>6</td>\n",
       "    </tr>\n",
       "    <tr>\n",
       "      <th>210</th>\n",
       "      <td>vehicle_18</td>\n",
       "      <td>54</td>\n",
       "      <td>68182.81552</td>\n",
       "      <td>68482.81552</td>\n",
       "      <td>deliverShipment</td>\n",
       "      <td>5947847668</td>\n",
       "      <td>10000</td>\n",
       "      <td>6</td>\n",
       "    </tr>\n",
       "    <tr>\n",
       "      <th>211</th>\n",
       "      <td>vehicle_18</td>\n",
       "      <td>-2</td>\n",
       "      <td>68619.28216</td>\n",
       "      <td>0.00000</td>\n",
       "      <td>end</td>\n",
       "      <td>6068627214</td>\n",
       "      <td>10000</td>\n",
       "      <td>6</td>\n",
       "    </tr>\n",
       "  </tbody>\n",
       "</table>\n",
       "<p>6877 rows × 8 columns</p>\n",
       "</div>"
      ],
      "text/plain": [
       "     vehicle_id  activity_index  arrival_time     end_time             name  \\\n",
       "0     vehicle_1              -1       0.00000      0.00000            start   \n",
       "1     vehicle_1             205      60.00000    120.00000   pickupShipment   \n",
       "2     vehicle_1              35     120.00000    180.00000   pickupShipment   \n",
       "3     vehicle_1             125     180.00000    240.00000   pickupShipment   \n",
       "4     vehicle_1             206     844.27296  21900.00000  deliverShipment   \n",
       "..          ...             ...           ...          ...              ...   \n",
       "207  vehicle_18             163   67386.34888  67446.34888   pickupShipment   \n",
       "208  vehicle_18              88   67582.81552  67882.81552  deliverShipment   \n",
       "209  vehicle_18             164   67882.81552  68182.81552  deliverShipment   \n",
       "210  vehicle_18              54   68182.81552  68482.81552  deliverShipment   \n",
       "211  vehicle_18              -2   68619.28216      0.00000              end   \n",
       "\n",
       "     location_id   seed  capacity  \n",
       "0     6068627214   1000         4  \n",
       "1     6068627214   1000         4  \n",
       "2     6068627214   1000         4  \n",
       "3     6068627214   1000         4  \n",
       "4       16564346   1000         4  \n",
       "..           ...    ...       ...  \n",
       "207   6068627214  10000         6  \n",
       "208   5947847668  10000         6  \n",
       "209   5947847668  10000         6  \n",
       "210   5947847668  10000         6  \n",
       "211   6068627214  10000         6  \n",
       "\n",
       "[6877 rows x 8 columns]"
      ]
     },
     "execution_count": 19,
     "metadata": {},
     "output_type": "execute_result"
    }
   ],
   "source": [
    "df_solutions"
   ]
  },
  {
   "cell_type": "code",
   "execution_count": 29,
   "metadata": {},
   "outputs": [
    {
     "data": {
      "text/plain": [
       "<matplotlib.legend.Legend at 0x7f6b51903a90>"
      ]
     },
     "execution_count": 29,
     "metadata": {},
     "output_type": "execute_result"
    },
    {
     "data": {
      "image/png": "[encoded data removed]",
      "text/plain": [
       "<Figure size 432x288 with 1 Axes>"
      ]
     },
     "metadata": {
      "needs_background": "light"
     },
     "output_type": "display_data"
    }
   ],
   "source": [
    "for capacity in capacities:\n",
    "    df_time = df_solutions.copy()\n",
    "    df_time = df_time[df_time[\"capacity\"] == capacity]\n",
    "    df_time = df_time[df_time[\"name\"] == \"deliverShipment\"]\n",
    "\n",
    "    q = 1\n",
    "\n",
    "    df_time[\"end_bin\"] = (df_time[\"end_time\"] // (3600 / q)) * q\n",
    "\n",
    "    df_count = df_time.groupby([\n",
    "        \"seed\", \"end_bin\"\n",
    "    ]).size().reset_index(name = \"count\").groupby(\"end_bin\")[\"count\"].aggregate([\n",
    "        \"mean\", \"std\"\n",
    "    ]).reset_index()\n",
    "\n",
    "    #plt.fill_between(\n",
    "    #    df_count[\"end_bin\"], df_count[\"mean\"] - df_count[\"std\"], df_count[\"mean\"] + df_count[\"std\"], alpha = 0.25)\n",
    "    plt.plot(df_count[\"end_bin\"], df_count[\"mean\"], label = capacity)\n",
    "\n",
    "plt.legend(loc = \"best\", title = \"Capacity\")"
   ]
  },
  {
   "cell_type": "code",
   "execution_count": 31,
   "metadata": {},
   "outputs": [
    {
     "data": {
      "text/html": [
       "<div>\n",
       "<style scoped>\n",
       "    .dataframe tbody tr th:only-of-type {\n",
       "        vertical-align: middle;\n",
       "    }\n",
       "\n",
       "    .dataframe tbody tr th {\n",
       "        vertical-align: top;\n",
       "    }\n",
       "\n",
       "    .dataframe thead th {\n",
       "        text-align: right;\n",
       "    }\n",
       "</style>\n",
       "<table border=\"1\" class=\"dataframe\">\n",
       "  <thead>\n",
       "    <tr style=\"text-align: right;\">\n",
       "      <th></th>\n",
       "      <th>end_bin</th>\n",
       "      <th>mean</th>\n",
       "      <th>std</th>\n",
       "    </tr>\n",
       "  </thead>\n",
       "  <tbody>\n",
       "    <tr>\n",
       "      <th>0</th>\n",
       "      <td>8.0</td>\n",
       "      <td>46.100000</td>\n",
       "      <td>3.071373</td>\n",
       "    </tr>\n",
       "    <tr>\n",
       "      <th>1</th>\n",
       "      <td>9.0</td>\n",
       "      <td>32.100000</td>\n",
       "      <td>4.121758</td>\n",
       "    </tr>\n",
       "    <tr>\n",
       "      <th>2</th>\n",
       "      <td>10.0</td>\n",
       "      <td>21.000000</td>\n",
       "      <td>4.594683</td>\n",
       "    </tr>\n",
       "    <tr>\n",
       "      <th>3</th>\n",
       "      <td>11.0</td>\n",
       "      <td>10.000000</td>\n",
       "      <td>3.674235</td>\n",
       "    </tr>\n",
       "    <tr>\n",
       "      <th>4</th>\n",
       "      <td>12.0</td>\n",
       "      <td>1.000000</td>\n",
       "      <td>NaN</td>\n",
       "    </tr>\n",
       "    <tr>\n",
       "      <th>5</th>\n",
       "      <td>13.0</td>\n",
       "      <td>4.555556</td>\n",
       "      <td>2.603417</td>\n",
       "    </tr>\n",
       "  </tbody>\n",
       "</table>\n",
       "</div>"
      ],
      "text/plain": [
       "   end_bin       mean       std\n",
       "0      8.0  46.100000  3.071373\n",
       "1      9.0  32.100000  4.121758\n",
       "2     10.0  21.000000  4.594683\n",
       "3     11.0  10.000000  3.674235\n",
       "4     12.0   1.000000       NaN\n",
       "5     13.0   4.555556  2.603417"
      ]
     },
     "execution_count": 31,
     "metadata": {},
     "output_type": "execute_result"
    },
    {
     "data": {
      "image/png": "[encoded data removed]",
      "text/plain": [
       "<Figure size 432x288 with 1 Axes>"
      ]
     },
     "metadata": {
      "needs_background": "light"
     },
     "output_type": "display_data"
    }
   ],
   "source": [
    "df_time = df_solutions_baseline.copy()\n",
    "df_time = df_time[df_time[\"name\"] == \"deliverShipment\"]\n",
    "\n",
    "df_time[\"end_bin\"] = df_time[\"end_time\"] // 3600\n",
    "\n",
    "df_count = df_time.groupby([\n",
    "    \"seed\", \"end_bin\"\n",
    "]).size().reset_index(name = \"count\").groupby(\"end_bin\")[\"count\"].aggregate([\n",
    "    \"mean\", \"std\"\n",
    "]).reset_index()\n",
    "\n",
    "plt.fill_between(\n",
    "    df_count[\"end_bin\"], df_count[\"mean\"] - df_count[\"std\"], df_count[\"mean\"] + df_count[\"std\"], alpha = 0.25)\n",
    "plt.plot(df_count[\"end_bin\"], df_count[\"mean\"])\n",
    "\n",
    "\n",
    "df_count"
   ]
  }
 ],
 "metadata": {
  "kernelspec": {
   "display_name": "Python 3",
   "language": "python",
   "name": "python3"
  },
  "language_info": {
   "codemirror_mode": {
    "name": "ipython",
    "version": 3
   },
   "file_extension": ".py",
   "mimetype": "text/x-python",
   "name": "python",
   "nbconvert_exporter": "python",
   "pygments_lexer": "ipython3",
   "version": "3.7.6"
  }
 },
 "nbformat": 4,
 "nbformat_minor": 5
}
