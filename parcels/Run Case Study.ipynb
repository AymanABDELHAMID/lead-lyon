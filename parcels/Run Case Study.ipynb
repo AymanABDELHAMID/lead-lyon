{
 "cells": [
  {
   "cell_type": "code",
   "execution_count": 2,
   "id": "15ea6933",
   "metadata": {},
   "outputs": [],
   "source": [
    "import numpy as np\n",
    "import matplotlib.pyplot as plt\n",
    "import pandas as pd\n",
    "import geopandas as gpd\n",
    "import papermill\n",
    "%matplotlib inline"
   ]
  },
  {
   "cell_type": "code",
   "execution_count": null,
   "id": "2c017192",
   "metadata": {},
   "outputs": [],
   "source": [
    "seeds = 10"
   ]
  },
  {
   "cell_type": "code",
   "execution_count": null,
   "id": "48061594",
   "metadata": {},
   "outputs": [],
   "source": [
    "for seed in np.arange(seeds) * 1000:\n",
    "    papermill.execute_notebook(\n",
    "        \"Generate Parcels.ipynb\",\n",
    "        \n",
    "    )\n",
    "    # Call Generate Parcels -> seed \n",
    "    # Call Generate VRP -> seed"
   ]
  },
  {
   "cell_type": "code",
   "execution_count": null,
   "id": "6dd1ee06",
   "metadata": {},
   "outputs": [],
   "source": [
    "for seed in np.arange(seeds) * 100:\n",
    "    \n",
    "    \n",
    "    entry = ?\n",
    "    \n",
    "    ## Solve the VRP problem using JSprit\n",
    "    java -cp lead-java/target/lead-0.0.1-SNAPSHOT.jar lead.RunOptimization \\\n",
    "        output/vrp_deliveries_seed{seed}.csv output/vrp_distances.csv {entry} output/vrp_solution_seed{seed}.csv\n",
    "\n",
    "    ## Simulate vehicles in MATSim to create visualisations\n",
    "    java -cp lead-java/target/lead-0.0.1-SNAPSHOT.jar lead.RunMovements \\\n",
    "          input/lyon_network.xml.gz output/vrp_nodes.csv output/vrp_solution_seed{seed}.csv output/vrp_movements_seed{seed}"
   ]
  }
 ],
 "metadata": {
  "kernelspec": {
   "display_name": "Python 3",
   "language": "python",
   "name": "python3"
  },
  "language_info": {
   "codemirror_mode": {
    "name": "ipython",
    "version": 3
   },
   "file_extension": ".py",
   "mimetype": "text/x-python",
   "name": "python",
   "nbconvert_exporter": "python",
   "pygments_lexer": "ipython3",
   "version": "3.8.2"
  }
 },
 "nbformat": 4,
 "nbformat_minor": 5
}
