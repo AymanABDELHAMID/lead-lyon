{
 "cells": [
  {
   "cell_type": "code",
   "execution_count": 8,
   "metadata": {},
   "outputs": [],
   "source": [
    "area_path = \"input/confluence_areas.gpkg\"\n",
    "output_path = \"output/confluence_areas.poly\""
   ]
  },
  {
   "cell_type": "code",
   "execution_count": 9,
   "metadata": {},
   "outputs": [],
   "source": [
    "import geopandas as gpd\n",
    "import os"
   ]
  },
  {
   "cell_type": "code",
   "execution_count": 10,
   "metadata": {},
   "outputs": [],
   "source": [
    "assert os.path.exists(area_path)"
   ]
  },
  {
   "cell_type": "code",
   "execution_count": 11,
   "metadata": {},
   "outputs": [],
   "source": [
    "df = gpd.read_file(area_path)\n",
    "df = df.to_crs(\"EPSG:4326\")\n",
    "\n",
    "df[\"aggregate\"] = 0\n",
    "area = df.dissolve(by = \"aggregate\")[\"geometry\"].values[0]\n",
    "\n",
    "if not hasattr(area, \"exterior\"):\n",
    "    print(\"Selected area is not connected -> Using convex hull.\")\n",
    "    area = area.convex_hull\n",
    "\n",
    "data = []\n",
    "data.append(\"polyfile\")\n",
    "data.append(\"polygon\")\n",
    "\n",
    "for coordinate in area.exterior.coords:\n",
    "    data.append(\"    %e    %e\" % coordinate)\n",
    "\n",
    "data.append(\"END\")\n",
    "data.append(\"END\")\n",
    "\n",
    "with open(output_path, \"w+\") as f:\n",
    "    f.write(\"\\n\".join(data))"
   ]
  }
 ],
 "metadata": {
  "kernelspec": {
   "display_name": "Python 3",
   "language": "python",
   "name": "python3"
  },
  "language_info": {
   "codemirror_mode": {
    "name": "ipython",
    "version": 3
   },
   "file_extension": ".py",
   "mimetype": "text/x-python",
   "name": "python",
   "nbconvert_exporter": "python",
   "pygments_lexer": "ipython3",
   "version": "3.8.10"
  }
 },
 "nbformat": 4,
 "nbformat_minor": 4
}
